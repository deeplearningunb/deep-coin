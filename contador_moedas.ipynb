{
 "cells": [
  {
   "cell_type": "markdown",
   "metadata": {},
   "source": [
    "# Deep Coin"
   ]
  },
  {
   "cell_type": "markdown",
   "metadata": {},
   "source": [
    "## Project dependencies"
   ]
  },
  {
   "cell_type": "code",
   "execution_count": null,
   "metadata": {},
   "outputs": [],
   "source": [
    "!pip install -r requirements.txt"
   ]
  },
  {
   "cell_type": "code",
   "execution_count": null,
   "metadata": {},
   "outputs": [],
   "source": [
    "import os\n",
    "import shutil\n",
    "\n",
    "import dlib\n",
    "import cv2\n",
    "import numpy as np\n",
    "import matplotlib.pyplot as plt\n",
    "import scipy.stats\n",
    "import tensorflow as tf\n",
    "\n",
    "from keras import applications, optimizers, Input\n",
    "from keras.models import Sequential, Model, load_model\n",
    "from keras.layers import Activation, Dropout, Flatten, Dense, Conv2D, MaxPooling2D\n",
    "from keras.utils import to_categorical\n",
    "from keras.preprocessing.image import ImageDataGenerator, array_to_img, img_to_array, load_img\n",
    "\n",
    "%matplotlib inline"
   ]
  },
  {
   "cell_type": "markdown",
   "metadata": {},
   "source": [
    "## Dataset Generation"
   ]
  },
  {
   "cell_type": "code",
   "execution_count": null,
   "metadata": {},
   "outputs": [],
   "source": [
    "def get_image_region(image, x1, y1, x2, y2):\n",
    "    \"\"\"\n",
    "    Return image subregion defined by (x1, y1) and (x2, y2) rectangle.\n",
    "    \"\"\"\n",
    "\n",
    "    return image[y1:y2, x1:x2]"
   ]
  },
  {
   "cell_type": "code",
   "execution_count": null,
   "metadata": {},
   "outputs": [],
   "source": [
    "def create_dataset(dataset_path):\n",
    "    \"\"\"\n",
    "    This script detect, cut and store coins from images.\n",
    "    It's necessary to especify the directory path (train or test) where all images are stored.\n",
    "    The directory should contain sub-directories as follow: '5', '10', '25', '50', '100'.\n",
    "\n",
    "    arg:\n",
    "    - dataset_path: path to dataset (train or test).\n",
    "    \"\"\"\n",
    "    \n",
    "    # Coin Detector made with dlib library\n",
    "    detector = dlib.simple_object_detector(\"assets/hog_detector.svm\")\n",
    "    \n",
    "    # Create output folder to store dataset with 64x64 coins   \n",
    "    output_folder = dataset_path + '_output';\n",
    "    if os.path.exists(f'{output_folder}'):\n",
    "        shutil.rmtree(f'{output_folder}')\n",
    "    else:\n",
    "        os.makedirs(f'{output_folder}')\n",
    "    \n",
    "    # Iterate every specific type of coin folder and create new dataset\n",
    "    for coin_directory in os.listdir(f'{dataset_path}'):\n",
    "        # Create directory to specific type of coin\n",
    "        os.makedirs(f'{output_folder}/{coin_directory}')\n",
    "        \n",
    "        coin_images = []\n",
    "        for coin_image in os.listdir(f'{dataset_path}/{coin_directory}'):\n",
    "            # Read image from disk and detect coin\n",
    "            img = cv2.imread(f'{dataset_path}/{coin_directory}/{coin_image}')\n",
    "            gray = cv2.cvtColor(img, cv2.COLOR_RGB2GRAY)\n",
    "            blur = cv2.GaussianBlur(gray, (3,3), 2)\n",
    "            coin_image = detector(blur)\n",
    "\n",
    "            # If some coin was found, append it to coin_images list\n",
    "            if len(coin_image) > 0:\n",
    "                left, top = coin_image[0].left(), coin_image[0].top()\n",
    "                right, bottom = coin_image[0].right(), coin_image[0].bottom()\n",
    "                coin_region = get_image_region(img, left, top, right, bottom)\n",
    "                coin_region = np.array(coin_region)\n",
    "                \n",
    "                if (coin_region.shape[0] != 0 and coin_region.shape[1] != 0 and coin_region.shape[2] != 0):\n",
    "                    coin_region = cv2.resize(coin_region,(64,64))\n",
    "                    coin_images.append(coin_region)\n",
    "\n",
    "        # Write coins images (64x64) to disk\n",
    "        for index, image in enumerate(coin_images):\n",
    "            cv2.imwrite(f'{output_folder}/{coin_directory}/{index}.jpg', image)"
   ]
  },
  {
   "cell_type": "markdown",
   "metadata": {},
   "source": [
    "## Train and Test dataset creation"
   ]
  },
  {
   "cell_type": "code",
   "execution_count": null,
   "metadata": {},
   "outputs": [],
   "source": [
    "create_dataset('train')\n",
    "create_dataset('test')"
   ]
  },
  {
   "cell_type": "markdown",
   "metadata": {},
   "source": [
    "## Convolutional Neural Network"
   ]
  },
  {
   "cell_type": "code",
   "execution_count": null,
   "metadata": {},
   "outputs": [],
   "source": [
    "def create_CNN():\n",
    "    \"\"\"\n",
    "    Return the Convolutional Neural Network (CNN) model to classify coin\n",
    "    \"\"\"\n",
    "\n",
    "    model = Sequential()\n",
    "    model.add(Conv2D(32, (3, 3), input_shape=(64, 64, 3)))\n",
    "    model.add(Activation('relu'))\n",
    "    model.add(MaxPooling2D(data_format=\"channels_last\", pool_size=(2, 2)))\n",
    "\n",
    "    model.add(Conv2D(32, (3, 3)))\n",
    "    model.add(Activation('relu')) \n",
    "    model.add(MaxPooling2D(data_format=\"channels_last\", pool_size=(2, 2)))\n",
    "\n",
    "    model.add(Conv2D(64, (3, 3)))\n",
    "    model.add(Activation('relu'))\n",
    "    model.add(MaxPooling2D(data_format=\"channels_last\", pool_size=(2, 2)))\n",
    "\n",
    "    model.add(Flatten())\n",
    "    model.add(Dense(64))\n",
    "    model.add(Activation('relu'))\n",
    "    model.add(Dropout(0.5))\n",
    "    model.add(Dense(5))\n",
    "    model.add(Activation('softmax'))\n",
    "\n",
    "    model.compile(loss='categorical_crossentropy',\n",
    "                  optimizer='adadelta',\n",
    "                  metrics=['accuracy'])\n",
    "\n",
    "    return model"
   ]
  },
  {
   "cell_type": "markdown",
   "metadata": {},
   "source": [
    "## Train and Test CNN Model"
   ]
  },
  {
   "cell_type": "code",
   "execution_count": null,
   "metadata": {},
   "outputs": [],
   "source": [
    "model = create_CNN()\n",
    "\n",
    "batch_size = 16\n",
    "train_datagen = ImageDataGenerator(\n",
    "        rotation_range=180,\n",
    "        width_shift_range=0.05,\n",
    "        height_shift_range=0.05,\n",
    "        shear_range=0.05,\n",
    "        rescale=1./255,\n",
    "        zoom_range=0.1,\n",
    "        fill_mode='nearest')\n",
    "\n",
    "test_datagen = ImageDataGenerator(rescale=1./255)\n",
    "\n",
    "train_generator = train_datagen.flow_from_directory(\n",
    "        'train_output',\n",
    "        target_size=(64, 64),\n",
    "        color_mode=\"rgb\",\n",
    "        batch_size=batch_size,\n",
    "        class_mode='categorical')\n",
    "\n",
    "validation_generator = test_datagen.flow_from_directory(\n",
    "        'test_output',\n",
    "        target_size=(64, 64),\n",
    "        color_mode=\"rgb\",\n",
    "        batch_size=batch_size,\n",
    "        class_mode='categorical')"
   ]
  },
  {
   "cell_type": "code",
   "execution_count": null,
   "metadata": {},
   "outputs": [],
   "source": [
    "model.fit_generator(\n",
    "        train_generator,\n",
    "        steps_per_epoch=200 // batch_size,\n",
    "        epochs=30,\n",
    "        validation_data=validation_generator,\n",
    "        validation_steps=200 // batch_size)"
   ]
  },
  {
   "cell_type": "code",
   "execution_count": null,
   "metadata": {},
   "outputs": [],
   "source": [
    "# model.save('coin_classifier_v1.h5')\n",
    "print(model.summary())\n",
    "\n",
    "print(model.evaluate_generator(validation_generator, steps = 32), end='\\n\\n')\n",
    "print(train_generator.class_indices)"
   ]
  },
  {
   "cell_type": "markdown",
   "metadata": {},
   "source": [
    "## Monetary Amount in an image"
   ]
  },
  {
   "cell_type": "code",
   "execution_count": null,
   "metadata": {},
   "outputs": [],
   "source": [
    "def coins_frequency(coins):\n",
    "    \"\"\"\n",
    "    Return the appearance frequency of each specific type of coin.\n",
    "\n",
    "    arg:\n",
    "    - coins: list of coin images.\n",
    "    \"\"\"\n",
    "\n",
    "    coins_frequency = {\n",
    "        '5': 0,\n",
    "        '10': 0,\n",
    "        '25': 0,\n",
    "        '50': 0,\n",
    "        '100': 0\n",
    "    }\n",
    "    \n",
    "    for coin in coins:\n",
    "        coin = cv2.resize(coin, (64, 64))\n",
    "        \n",
    "        plt.imshow(coin)\n",
    "        plt.show()\n",
    "        \n",
    "        coin = np.reshape(coin, [1, 64, 64, 3])\n",
    "        coin = np.asarray(coin)\n",
    "        \n",
    "        coin_type = model.predict_classes(coin)\n",
    "        if coin_type[0] == 0:\n",
    "            print('Moeda: 10 centavos')\n",
    "            coins_frequency['10'] += 1\n",
    "        elif coin_type[0] == 1:\n",
    "            print('Moeda: 1 real')\n",
    "            coins_frequency['100'] += 1\n",
    "        elif coin_type[0] == 2:\n",
    "            print('Moeda: 25 centavos')\n",
    "            coins_frequency['25'] += 1\n",
    "        elif coin_type[0] == 3:\n",
    "            print('Moeda: 5 centavos')\n",
    "            coins_frequency['5'] += 1\n",
    "        elif coin_type[0] == 4:\n",
    "            print('Moeda: 50 centavos')\n",
    "            coins_frequency['50'] += 1\n",
    "    \n",
    "    return coins_frequency"
   ]
  },
  {
   "cell_type": "code",
   "execution_count": null,
   "metadata": {},
   "outputs": [],
   "source": [
    "# model = load_model('coin_classifier_v1.h5')\n",
    "\n",
    "def main():\n",
    "    # Coin Detector made with dlib library\n",
    "    detector = dlib.simple_object_detector(\"./assets/hog_detector.svm\")\n",
    "\n",
    "    # Show the Histogram Of Oriented Gradient of a coin\n",
    "    dlib_window = dlib.image_window()\n",
    "    dlib_window.set_image(detector)\n",
    "    \n",
    "    # Detect all coins in an image\n",
    "    sample_image = cv2.imread('./assets/images/sample1.jpg')[:, :, ::-1]\n",
    "    gray_image = cv2.cvtColor(sample_image, cv2.COLOR_RGB2GRAY)\n",
    "    blur_image = cv2.GaussianBlur(gray_image, (3,3), 2)\n",
    "\n",
    "    coins_regions = detector(blur_image)\n",
    "    \n",
    "    # Create list with coins regions extracted from image\n",
    "    coins_images = []\n",
    "    for coin_region in coins_regions:\n",
    "        left, top = coin_region.left(), coin_region.top()\n",
    "        right, bottom = coin_region.right(), coin_region.bottom()\n",
    "        \n",
    "        coin_image = get_image_region(sample_image, left, top, right, bottom)\n",
    "        coins_images.append(coin_image)\n",
    "    \n",
    "    # Compute coins frequency\n",
    "    coins_repetitions = coins_frequency(coins_images)\n",
    "    print('Moedas: ', coins_repetitions)\n",
    "    \n",
    "    # Show the original image\n",
    "    plt.imshow(sample_image)\n",
    "    plt.show()\n",
    "    \n",
    "    # Compute the total amount of money\n",
    "    monetary_amount = 0\n",
    "    monetary_amount += 5*coins_repetitions['5']\n",
    "    monetary_amount += 10*coins_repetitions['10']\n",
    "    monetary_amount += 25*coins_repetitions['25']\n",
    "    monetary_amount += 50*coins_repetitions['50']\n",
    "    monetary_amount += 100*coins_repetitions['100']\n",
    "\n",
    "    print('Total: {:.2f} reais'.format(monetary_amount/100))"
   ]
  },
  {
   "cell_type": "code",
   "execution_count": null,
   "metadata": {
    "scrolled": false
   },
   "outputs": [],
   "source": [
    "if __name__ == '__main__':\n",
    "    main()"
   ]
  },
  {
   "cell_type": "code",
   "execution_count": null,
   "metadata": {},
   "outputs": [],
   "source": []
  }
 ],
 "metadata": {
  "kernelspec": {
   "display_name": "Python 3",
   "language": "python",
   "name": "python3"
  },
  "language_info": {
   "codemirror_mode": {
    "name": "ipython",
    "version": 3
   },
   "file_extension": ".py",
   "mimetype": "text/x-python",
   "name": "python",
   "nbconvert_exporter": "python",
   "pygments_lexer": "ipython3",
   "version": "3.6.10"
  }
 },
 "nbformat": 4,
 "nbformat_minor": 2
}
