{
 "cells": [
  {
   "cell_type": "markdown",
   "metadata": {},
   "source": [
    "# Deep Coin"
   ]
  },
  {
   "cell_type": "code",
   "execution_count": null,
   "metadata": {},
   "outputs": [],
   "source": [
    "# Dependencies\n",
    "\n",
    "!pip install --upgrade tensorflow keras matplotlib dlib opencv-python scipy"
   ]
  },
  {
   "cell_type": "code",
   "execution_count": 9,
   "metadata": {},
   "outputs": [],
   "source": [
    "import os\n",
    "import shutil\n",
    "\n",
    "import dlib\n",
    "import cv2\n",
    "import numpy as np\n",
    "import matplotlib.pyplot as plt\n",
    "import scipy.stats\n",
    "import tensorflow as tf\n",
    "\n",
    "from keras import applications, optimizers, Input\n",
    "from keras.models import Sequential, Model\n",
    "from keras.layers import Activation, Dropout, Flatten, Dense, Conv2D, MaxPooling2D\n",
    "from keras.utils import to_categorical\n",
    "from keras.preprocessing.image import ImageDataGenerator, array_to_img, img_to_array, load_img\n",
    "\n",
    "%matplotlib inline"
   ]
  },
  {
   "cell_type": "markdown",
   "metadata": {},
   "source": [
    "## Dataset Creation"
   ]
  },
  {
   "cell_type": "code",
   "execution_count": 10,
   "metadata": {},
   "outputs": [],
   "source": [
    "def coin_regions(img, x1, y1, x2, y2):\n",
    "    return img[y1:y2, x1:x2]"
   ]
  },
  {
   "cell_type": "code",
   "execution_count": 11,
   "metadata": {},
   "outputs": [],
   "source": [
    "def create_dataset(dataset_type):\n",
    "    \"\"\"\n",
    "        createDataset:\n",
    "        - This script creates dataset with JUST COINS (64x64).\n",
    "        It's necessary to especify the directory where the full images are stored.\n",
    "        The directory should contain sub-directories as follow: '5', '10', '25', '50', '100'\n",
    "        \n",
    "        arg:\n",
    "        - dataset_type:\n",
    "            0: create train dataset\n",
    "            1: create test dataset\n",
    "    \"\"\"\n",
    "    \n",
    "    if dataset_type == 0:\n",
    "        folder_src = r'train'\n",
    "        folder_out = r'train_output'\n",
    "    elif dataset_type == 1:\n",
    "        folder_src = r'test'\n",
    "        folder_out = r'test_output'\n",
    "    \n",
    "    # hog_detector made with dlib. More trainning improves detection\n",
    "    detector = dlib.simple_object_detector(\"assets/hog_detector.svm\")\n",
    "    \n",
    "    # Create directory to store ONLY COINS\n",
    "    if os.path.exists('{}'.format(folder_out)):\n",
    "        shutil.rmtree('{}'.format(folder_out))\n",
    "    else:\n",
    "        os.makedirs('{}'.format(folder_out))\n",
    "    \n",
    "    # Extract and store coins into right folder\n",
    "    for coin_directory in os.listdir('{}'.format(folder_src)):\n",
    "        os.makedirs('{}/{}'.format(folder_out, coin_directory))\n",
    "        \n",
    "        train_images_type = []\n",
    "        for coin_image in os.listdir('{}/{}'.format(folder_src, coin_directory)):\n",
    "            img = cv2.imread('{}/{}/{}'.format(folder_src, coin_directory, coin_image))\n",
    "            gray = cv2.cvtColor(img, cv2.COLOR_RGB2GRAY)\n",
    "            blur = cv2.GaussianBlur(gray, (3,3), 2)\n",
    "            rects = detector(blur)\n",
    "\n",
    "            if len(rects) > 0:\n",
    "                left, top, right, bottom = rects[0].left(), rects[0].top(), rects[0].right(), rects[0].bottom()\n",
    "                coin_region = coin_regions(img, left, top, right, bottom)\n",
    "                coin_region = np.array(coin_region)\n",
    "                \n",
    "                if (coin_region.shape[0] != 0 and coin_region.shape[1] != 0 and coin_region.shape[2] != 0):\n",
    "                    coin_region = cv2.resize(coin_region,(64,64))\n",
    "                    train_images_type.append(coin_region)\n",
    "\n",
    "        for i, image in enumerate(train_images_type):\n",
    "            cv2.imwrite('{}/{}/{}.jpg'.format(folder_out, coin_directory, i), image)"
   ]
  },
  {
   "cell_type": "code",
   "execution_count": null,
   "metadata": {},
   "outputs": [],
   "source": [
    "# Create train and test dataset\n",
    "create_dataset(0)\n",
    "create_dataset(1)"
   ]
  },
  {
   "cell_type": "markdown",
   "metadata": {},
   "source": [
    "## Convolutional Neural Network"
   ]
  },
  {
   "cell_type": "code",
   "execution_count": null,
   "metadata": {},
   "outputs": [],
   "source": [
    "def create_CNN():\n",
    "    model = Sequential()\n",
    "    model.add(Conv2D(32, (3, 3), input_shape=(64, 64, 3)))\n",
    "    model.add(Activation('relu'))\n",
    "    model.add(MaxPooling2D(data_format=\"channels_last\", pool_size=(2, 2)))\n",
    "\n",
    "    model.add(Conv2D(32, (3, 3)))\n",
    "    model.add(Activation('relu')) \n",
    "    model.add(MaxPooling2D(data_format=\"channels_last\", pool_size=(2, 2)))\n",
    "\n",
    "    model.add(Conv2D(64, (3, 3)))\n",
    "    model.add(Activation('relu'))\n",
    "    model.add(MaxPooling2D(data_format=\"channels_last\", pool_size=(2, 2)))\n",
    "\n",
    "    model.add(Flatten())\n",
    "    model.add(Dense(64))\n",
    "    model.add(Activation('relu'))\n",
    "    model.add(Dropout(0.5))\n",
    "    model.add(Dense(5))\n",
    "    model.add(Activation('softmax'))\n",
    "\n",
    "    model.compile(loss='categorical_crossentropy',\n",
    "                  optimizer='adadelta',\n",
    "                  metrics=['accuracy'])\n",
    "\n",
    "    return model"
   ]
  },
  {
   "cell_type": "code",
   "execution_count": null,
   "metadata": {},
   "outputs": [],
   "source": [
    "def coins_numbers(coins):\n",
    "    \"\"\"\n",
    "        coins_numbers:\n",
    "        - return the frequency of a certain coin.\n",
    "        \n",
    "        arg:\n",
    "        - coins: list of images with coin region\n",
    "    \"\"\"\n",
    "    total_coins = {\n",
    "        '5': 0,\n",
    "        '10': 0,\n",
    "        '25': 0,\n",
    "        '50': 0,\n",
    "        '100': 0\n",
    "    }\n",
    "    \n",
    "    for coin in coins:\n",
    "        coin = cv2.resize(coin, (64, 64))\n",
    "        \n",
    "        plt.imshow(coin)\n",
    "        plt.show()\n",
    "        \n",
    "        coin = np.reshape(coin, [1, 64, 64, 3])\n",
    "        coin = np.asarray(coin)\n",
    "        \n",
    "        coin_type = model.predict_classes(coin)\n",
    "        if coin_type[0] == 0:\n",
    "            print('Moeda: 10 centavos')\n",
    "            total_coins['10'] += 1\n",
    "        elif coin_type[0] == 1:\n",
    "            print('Moeda: 1 real')\n",
    "            total_coins['100'] += 1\n",
    "        elif coin_type[0] == 2:\n",
    "            print('Moeda: 25 centavos')\n",
    "            total_coins['25'] += 1\n",
    "        elif coin_type[0] == 3:\n",
    "            print('Moeda: 5 centavos')\n",
    "            total_coins['5'] += 1\n",
    "        elif coin_type[0] == 4:\n",
    "            print('Moeda: 50 centavos')\n",
    "            total_coins['50'] += 1\n",
    "    \n",
    "    return total_coins"
   ]
  },
  {
   "cell_type": "code",
   "execution_count": null,
   "metadata": {},
   "outputs": [],
   "source": [
    "# Create model, configure train and test dataset\n",
    "model = create_CNN()\n",
    "\n",
    "batch_size = 16\n",
    "train_datagen = ImageDataGenerator(\n",
    "        rotation_range=180,\n",
    "        width_shift_range=0.05,\n",
    "        height_shift_range=0.05,\n",
    "        shear_range=0.05,\n",
    "        rescale=1./255,\n",
    "        zoom_range=0.1,\n",
    "        fill_mode='nearest')\n",
    "\n",
    "test_datagen = ImageDataGenerator(rescale=1./255)\n",
    "\n",
    "train_generator = train_datagen.flow_from_directory(\n",
    "        'train_output',\n",
    "        target_size=(64, 64),\n",
    "        color_mode=\"rgb\",\n",
    "        batch_size=batch_size,\n",
    "        class_mode='categorical')\n",
    "\n",
    "validation_generator = test_datagen.flow_from_directory(\n",
    "        'test_output',\n",
    "        target_size=(64, 64),\n",
    "        color_mode=\"rgb\",\n",
    "        batch_size=batch_size,\n",
    "        class_mode='categorical')"
   ]
  },
  {
   "cell_type": "code",
   "execution_count": null,
   "metadata": {},
   "outputs": [],
   "source": [
    "model.fit_generator(\n",
    "        train_generator,\n",
    "        steps_per_epoch=200 // batch_size,\n",
    "        epochs=30,\n",
    "        validation_data=validation_generator,\n",
    "        validation_steps=200 // batch_size)"
   ]
  },
  {
   "cell_type": "code",
   "execution_count": null,
   "metadata": {},
   "outputs": [],
   "source": [
    "#model.save('coin_classifier_v1.h5')\n",
    "print(model.summary())"
   ]
  },
  {
   "cell_type": "code",
   "execution_count": null,
   "metadata": {},
   "outputs": [],
   "source": [
    "print(model.evaluate_generator(validation_generator, steps = 32), end='\\n\\n')\n",
    "print(train_generator.class_indices)"
   ]
  },
  {
   "cell_type": "code",
   "execution_count": null,
   "metadata": {},
   "outputs": [],
   "source": [
    "from keras import models\n",
    "model = models.load_model('coin_classifier_v1.h5')\n",
    "\n",
    "def main():\n",
    "    # hog_detector made with dlib. More trainning improves detection\n",
    "    detector = dlib.simple_object_detector(\"hog_detector.svm\")\n",
    "\n",
    "    # show generalized HOG model for a coin\n",
    "    win_det = dlib.image_window()\n",
    "    win_det.set_image(detector)\n",
    "    \n",
    "    # Processing image input to detect coins on it\n",
    "    img = cv2.imread('../images/coin4.jpg')[:, :, ::-1]\n",
    "    gray = cv2.cvtColor(img, cv2.COLOR_RGB2GRAY)\n",
    "    blur = cv2.GaussianBlur(gray, (3,3), 2)\n",
    "\n",
    "    rects = detector(blur)\n",
    "    \n",
    "    coins = []\n",
    "    for k, d in enumerate(rects):\n",
    "        coins.append(coin_regions(img, d.left(), d.top(), d.right(), d.bottom()))\n",
    "    \n",
    "    coins_a = coins_numbers(coins)\n",
    "    \n",
    "    plt.imshow(img)\n",
    "    plt.show()\n",
    "    \n",
    "    print('\\n\\nQuantidade de moedas: {}'.format(len(rects)))\n",
    "    print(coins_a)\n",
    "    \n",
    "    total = 5*coins_a['5'] + 10*coins_a['10'] + 25*coins_a['25'] + 50*coins_a['50']+100*coins_a['100']\n",
    "    print('Total: {:.2f} reais'.format(total/100))"
   ]
  },
  {
   "cell_type": "code",
   "execution_count": null,
   "metadata": {
    "scrolled": false
   },
   "outputs": [],
   "source": [
    "if __name__ == '__main__':\n",
    "    main()"
   ]
  }
 ],
 "metadata": {
  "kernelspec": {
   "display_name": "Python 3",
   "language": "python",
   "name": "python3"
  },
  "language_info": {
   "codemirror_mode": {
    "name": "ipython",
    "version": 3
   },
   "file_extension": ".py",
   "mimetype": "text/x-python",
   "name": "python",
   "nbconvert_exporter": "python",
   "pygments_lexer": "ipython3",
   "version": "3.7.3"
  }
 },
 "nbformat": 4,
 "nbformat_minor": 2
}
